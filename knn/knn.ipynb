{
 "cells": [
  {
   "cell_type": "code",
   "execution_count": 5,
   "metadata": {},
   "outputs": [],
   "source": [
    "from PIL import Image\n",
    "import numpy as np\n",
    "from sklearn.manifold import TSNE\n",
    "from matplotlib import pyplot as plt\n",
    "from sklearn.neighbors import NearestNeighbors"
   ]
  },
  {
   "cell_type": "markdown",
   "metadata": {},
   "source": [
    "# test NearesNeightbors"
   ]
  },
  {
   "cell_type": "code",
   "execution_count": 6,
   "metadata": {},
   "outputs": [
    {
     "data": {
      "text/plain": [
       "array([1, 2, 2, 0])"
      ]
     },
     "execution_count": 6,
     "metadata": {},
     "output_type": "execute_result"
    }
   ],
   "source": [
    "samples = [[0., 0., 0.], [0., .5, 0.], [1., 1., .5]]\n",
    "neigh = NearestNeighbors(n_neighbors=1)\n",
    "neigh.fit(samples)\n",
    "# print(neigh.kneighbors([[1., 1., 1.]]))\n",
    "\n",
    "X = [[0., 1., 0.], [1., 0., 1.], [1., 1., 1.], [1., 0., 0.]]\n",
    "n = neigh.kneighbors(X, return_distance=False)#, n_neighbors=1)\n",
    "n[:,0]\n"
   ]
  },
  {
   "cell_type": "markdown",
   "metadata": {},
   "source": [
    "# test on Image"
   ]
  },
  {
   "cell_type": "code",
   "execution_count": 7,
   "metadata": {},
   "outputs": [],
   "source": [
    "# img = Image.open('../imgs/flight.png')\n",
    "img = Image.open('../imgs/oranges.png')\n",
    "data = str(img.tobitmap)"
   ]
  },
  {
   "cell_type": "code",
   "execution_count": 8,
   "metadata": {},
   "outputs": [],
   "source": [
    "im = np.array(img)\n",
    "im_shape = im.shape\n",
    "# pil_image=Image.fromarray(im)\n",
    "# pil_image.save('output.png')"
   ]
  },
  {
   "cell_type": "code",
   "execution_count": 9,
   "metadata": {},
   "outputs": [
    {
     "data": {
      "text/plain": [
       "(1254210, 3)"
      ]
     },
     "execution_count": 9,
     "metadata": {},
     "output_type": "execute_result"
    }
   ],
   "source": [
    "im_arr = np.reshape(im, (im_shape[0]*im_shape[1], im_shape[2])) \n",
    "im_arr.shape"
   ]
  },
  {
   "cell_type": "code",
   "execution_count": 10,
   "metadata": {},
   "outputs": [],
   "source": [
    "def rgb_to_hex(rgb):\n",
    "    return '#%02x%02x%02x' % rgb\n",
    "im_arrCol = [rgb_to_hex((255, 255, 195)) for pixel in im_arr]"
   ]
  },
  {
   "cell_type": "code",
   "execution_count": 11,
   "metadata": {},
   "outputs": [],
   "source": [
    "# tsne = TSNE(n_components=2, perplexity=30)\n",
    "# tsne = tsne.fit_transform(im_arr)\n",
    "# tsne.shape\n",
    "# tsne.fit()\n",
    "\n",
    "\n",
    "# fig, ax = plt.subplots(1)\n",
    "# ax.scatterplot(x=tsne[:,0], y=tsne[:,0], c=im_arrCol, s=120)\n",
    "# ax.set_aspect('equal')\n",
    "# ax.legend(bbox_to_anchor=(1.05, 1), loc=2, borderaxespad=0.0)"
   ]
  },
  {
   "cell_type": "code",
   "execution_count": null,
   "metadata": {},
   "outputs": [],
   "source": []
  },
  {
   "cell_type": "code",
   "execution_count": 12,
   "metadata": {},
   "outputs": [
    {
     "data": {
      "text/plain": [
       "array([[2],\n",
       "       [2],\n",
       "       [2],\n",
       "       ...,\n",
       "       [2],\n",
       "       [2],\n",
       "       [2]])"
      ]
     },
     "execution_count": 12,
     "metadata": {},
     "output_type": "execute_result"
    }
   ],
   "source": [
    "nn = NearestNeighbors(n_neighbors=1)\n",
    "nn.fit(im_arr)\n",
    "# print(neigh.kneighbors([[1., 1., 1.]]))\n",
    "n = neigh.kneighbors(im_arr, return_distance=False)#, n_neighbors=1)\n",
    "\n",
    "n\n"
   ]
  },
  {
   "cell_type": "code",
   "execution_count": null,
   "metadata": {},
   "outputs": [],
   "source": []
  }
 ],
 "metadata": {
  "interpreter": {
   "hash": "912ee4fc2fc22b0cb897827210ccb71cd058a0f1504ca8ba8b3afc815ad46ef3"
  },
  "kernelspec": {
   "display_name": "Python 3.9.7 64-bit ('venv': venv)",
   "language": "python",
   "name": "python3"
  },
  "language_info": {
   "codemirror_mode": {
    "name": "ipython",
    "version": 3
   },
   "file_extension": ".py",
   "mimetype": "text/x-python",
   "name": "python",
   "nbconvert_exporter": "python",
   "pygments_lexer": "ipython3",
   "version": "3.9.7"
  },
  "orig_nbformat": 4
 },
 "nbformat": 4,
 "nbformat_minor": 2
}
